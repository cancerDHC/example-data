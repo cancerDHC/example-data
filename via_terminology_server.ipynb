{
 "cells": [
  {
   "cell_type": "code",
   "execution_count": 1,
   "id": "f0aa79f9",
   "metadata": {},
   "outputs": [],
   "source": [
    "import requests\n",
    "import pandas as pd\n",
    "import json\n",
    "import crdch_model as ccdh\n",
    "from linkml_runtime.dumpers import yaml_dumper"
   ]
  },
  {
   "cell_type": "code",
   "execution_count": 2,
   "id": "74625ec4",
   "metadata": {},
   "outputs": [],
   "source": [
    "with open('head-and-mouth/gdc-head-and-mouth.json') as file:\n",
    "    gdc_head_and_mouth = json.load(file)"
   ]
  },
  {
   "cell_type": "code",
   "execution_count": 3,
   "id": "ae7fb14c",
   "metadata": {},
   "outputs": [],
   "source": [
    "suggested_row_num = 131\n",
    "suggested_diag_num = 0\n",
    "suggested_row = gdc_head_and_mouth[suggested_row_num]\n",
    "# suggested_row"
   ]
  },
  {
   "cell_type": "code",
   "execution_count": 4,
   "id": "536f4e1f",
   "metadata": {},
   "outputs": [],
   "source": [
    "suggested_diagnosis_dict = suggested_row[\"diagnoses\"][suggested_diag_num]\n",
    "# suggested_diagnosis_dict"
   ]
  },
  {
   "cell_type": "code",
   "execution_count": 5,
   "id": "cae20189",
   "metadata": {},
   "outputs": [],
   "source": [
    "# derrived from Gaurav's code\n",
    "# how to DISCOVER?\n",
    "#   close_mappings ?\n",
    "# how to convert these legacy CRDC-H strings to codable concepts?\n",
    "gdc_to_crdch_csoot_dict = [\n",
    "    {\"GDC\": \"ajcc_clinical_m\", \"CRDC-H\": \"Clinical Metastasis (M)\"},\n",
    "    {\"GDC\": \"ajcc_clinical_n\", \"CRDC-H\": \"Clinical Node (N)\"},\n",
    "    {\"GDC\": \"ajcc_clinical_stage\", \"CRDC-H\": \"Clinical Overall\"},\n",
    "    {\"GDC\": \"ajcc_clinical_t\", \"CRDC-H\": \"Clinical Tumor (T)\"},\n",
    "    {\"GDC\": \"tumor_stage\", \"CRDC-H\": \"Overall\"},\n",
    "    {\"GDC\": \"ajcc_pathologic_m\", \"CRDC-H\": \"Pathological Metastasis (M)\"},\n",
    "    {\"GDC\": \"ajcc_pathologic_n\", \"CRDC-H\": \"Pathological Node (N)\"},\n",
    "    {\"GDC\": \"ajcc_pathologic_stage\", \"CRDC-H\": \"Pathological Overall\"},\n",
    "    {\"GDC\": \"ajcc_pathologic_t\", \"CRDC-H\": \"Pathological Tumor (T)\"},\n",
    "    {\"GDC\": \"age_at_diagnosis\", \"CRDC-H\": None},\n",
    "    {\"GDC\": \"ajcc_staging_system_edition\", \"CRDC-H\": None},\n",
    "    {\"GDC\": \"classification_of_tumor\", \"CRDC-H\": None},\n",
    "    {\"GDC\": \"created_datetime\", \"CRDC-H\": None},\n",
    "    {\"GDC\": \"days_to_diagnosis\", \"CRDC-H\": None},\n",
    "    {\"GDC\": \"days_to_last_follow_up\", \"CRDC-H\": None},\n",
    "    {\"GDC\": \"days_to_last_known_disease_status\", \"CRDC-H\": None},\n",
    "    {\"GDC\": \"days_to_recurrence\", \"CRDC-H\": None},\n",
    "    {\"GDC\": \"diagnosis_id\", \"CRDC-H\": None},\n",
    "    {\"GDC\": \"icd_10_code\", \"CRDC-H\": None},\n",
    "    {\"GDC\": \"last_known_disease_status\", \"CRDC-H\": None},\n",
    "    {\"GDC\": \"morphology\", \"CRDC-H\": None},\n",
    "    {\"GDC\": \"primary_diagnosis\", \"CRDC-H\": None},\n",
    "    {\"GDC\": \"prior_malignancy\", \"CRDC-H\": None},\n",
    "    {\"GDC\": \"prior_treatment\", \"CRDC-H\": None},\n",
    "    {\"GDC\": \"progression_or_recurrence\", \"CRDC-H\": None},\n",
    "    {\"GDC\": \"site_of_resection_or_biopsy\", \"CRDC-H\": None},\n",
    "    {\"GDC\": \"state\", \"CRDC-H\": None},\n",
    "    {\"GDC\": \"submitter_id\", \"CRDC-H\": None},\n",
    "    {\"GDC\": \"synchronous_malignancy\", \"CRDC-H\": None},\n",
    "    {\"GDC\": \"tissue_or_organ_of_origin\", \"CRDC-H\": None},\n",
    "    {\"GDC\": \"tumor_grade\", \"CRDC-H\": None},\n",
    "    {\"GDC\": \"updated_datetime\", \"CRDC-H\": None},\n",
    "    {\"GDC\": \"year_of_diagnosis\", \"CRDC-H\": None},\n",
    "]"
   ]
  },
  {
   "cell_type": "code",
   "execution_count": 6,
   "id": "a1b0bb2d",
   "metadata": {},
   "outputs": [
    {
     "data": {
      "text/html": [
       "<div>\n",
       "<style scoped>\n",
       "    .dataframe tbody tr th:only-of-type {\n",
       "        vertical-align: middle;\n",
       "    }\n",
       "\n",
       "    .dataframe tbody tr th {\n",
       "        vertical-align: top;\n",
       "    }\n",
       "\n",
       "    .dataframe thead th {\n",
       "        text-align: right;\n",
       "    }\n",
       "</style>\n",
       "<table border=\"1\" class=\"dataframe\">\n",
       "  <thead>\n",
       "    <tr style=\"text-align: right;\">\n",
       "      <th></th>\n",
       "      <th>GDC</th>\n",
       "      <th>CRDC-H</th>\n",
       "    </tr>\n",
       "  </thead>\n",
       "  <tbody>\n",
       "    <tr>\n",
       "      <th>0</th>\n",
       "      <td>ajcc_clinical_m</td>\n",
       "      <td>Clinical Metastasis (M)</td>\n",
       "    </tr>\n",
       "    <tr>\n",
       "      <th>1</th>\n",
       "      <td>ajcc_clinical_n</td>\n",
       "      <td>Clinical Node (N)</td>\n",
       "    </tr>\n",
       "    <tr>\n",
       "      <th>2</th>\n",
       "      <td>ajcc_clinical_stage</td>\n",
       "      <td>Clinical Overall</td>\n",
       "    </tr>\n",
       "    <tr>\n",
       "      <th>3</th>\n",
       "      <td>ajcc_clinical_t</td>\n",
       "      <td>Clinical Tumor (T)</td>\n",
       "    </tr>\n",
       "    <tr>\n",
       "      <th>4</th>\n",
       "      <td>tumor_stage</td>\n",
       "      <td>Overall</td>\n",
       "    </tr>\n",
       "    <tr>\n",
       "      <th>5</th>\n",
       "      <td>ajcc_pathologic_m</td>\n",
       "      <td>Pathological Metastasis (M)</td>\n",
       "    </tr>\n",
       "    <tr>\n",
       "      <th>6</th>\n",
       "      <td>ajcc_pathologic_n</td>\n",
       "      <td>Pathological Node (N)</td>\n",
       "    </tr>\n",
       "    <tr>\n",
       "      <th>7</th>\n",
       "      <td>ajcc_pathologic_stage</td>\n",
       "      <td>Pathological Overall</td>\n",
       "    </tr>\n",
       "    <tr>\n",
       "      <th>8</th>\n",
       "      <td>ajcc_pathologic_t</td>\n",
       "      <td>Pathological Tumor (T)</td>\n",
       "    </tr>\n",
       "  </tbody>\n",
       "</table>\n",
       "</div>"
      ],
      "text/plain": [
       "                     GDC                       CRDC-H\n",
       "0        ajcc_clinical_m      Clinical Metastasis (M)\n",
       "1        ajcc_clinical_n            Clinical Node (N)\n",
       "2    ajcc_clinical_stage             Clinical Overall\n",
       "3        ajcc_clinical_t           Clinical Tumor (T)\n",
       "4            tumor_stage                      Overall\n",
       "5      ajcc_pathologic_m  Pathological Metastasis (M)\n",
       "6      ajcc_pathologic_n        Pathological Node (N)\n",
       "7  ajcc_pathologic_stage         Pathological Overall\n",
       "8      ajcc_pathologic_t       Pathological Tumor (T)"
      ]
     },
     "execution_count": 6,
     "metadata": {},
     "output_type": "execute_result"
    }
   ],
   "source": [
    "gdc_to_crdch_csoot_frame = pd.DataFrame(gdc_to_crdch_csoot_dict)\n",
    "gdc_to_crdch_csoot_frame_complete = gdc_to_crdch_csoot_frame.loc[ ~ gdc_to_crdch_csoot_frame['CRDC-H'].isnull()]\n",
    "gdc_to_crdch_csoot_frame_complete"
   ]
  },
  {
   "cell_type": "code",
   "execution_count": 7,
   "id": "cb104514",
   "metadata": {},
   "outputs": [],
   "source": [
    "# initialize\n",
    "global_mapping_table = pd.DataFrame()\n",
    "\n",
    "def get_mapping_table(model_name, class_name, slot_name):\n",
    "    global global_mapping_table\n",
    "    current_url = f\"https://terminology.ccdh.io/models/{model_name}/entities/{class_name}/attributes/{slot_name}/mappings\"\n",
    "    response = requests.get(current_url)\n",
    "    resp_struct = response.json()\n",
    "    current_mappings = pd.DataFrame(resp_struct[\"mappings\"])\n",
    "    global_mapping_table = global_mapping_table.append(current_mappings)\n"
   ]
  },
  {
   "cell_type": "code",
   "execution_count": 8,
   "id": "5949bcf5",
   "metadata": {},
   "outputs": [],
   "source": [
    "# add suggestion to pull new content into global_mapping_table if no hits\n",
    "# add required predicate handling\n",
    "# add handling for len(results.index) == 0 or > 1\n",
    "# add option for closest match via difflib.get_close_matches \n",
    "#   or something more quantitative\n",
    "def get_mapping(model_name, mf, sl, required_pred=\"\"):\n",
    "    prefixed_mf = model_name + \".\" + mf\n",
    "    # print(prefixed_mf)\n",
    "    results = global_mapping_table.loc[\n",
    "        global_mapping_table['subject_match_field'].eq(prefixed_mf) &\n",
    "        global_mapping_table['subject_label'].eq(sl)\n",
    "    ]\n",
    "    if len(results.index) == 1:\n",
    "        return results.to_dict(orient=\"records\")"
   ]
  },
  {
   "cell_type": "code",
   "execution_count": 9,
   "id": "d6494aad",
   "metadata": {},
   "outputs": [],
   "source": [
    "global_mapping_table = pd.DataFrame()"
   ]
  },
  {
   "cell_type": "code",
   "execution_count": 10,
   "id": "9019eece",
   "metadata": {},
   "outputs": [
    {
     "name": "stdout",
     "output_type": "stream",
     "text": [
      "(0, 0)\n",
      "(1402, 9)\n",
      "(2081, 9)\n"
     ]
    }
   ],
   "source": [
    "\n",
    "print(global_mapping_table.shape)\n",
    "get_mapping_table(\"CRDC-H\", \"BodySite\", \"site\")\n",
    "print(global_mapping_table.shape)\n",
    "get_mapping_table(\"CRDC-H\", \"CancerStageObservation\", \"valueCodeableConcept\")\n",
    "print(global_mapping_table.shape)"
   ]
  },
  {
   "cell_type": "code",
   "execution_count": 11,
   "id": "4cb0009b",
   "metadata": {},
   "outputs": [],
   "source": [
    "# global_mapping_table"
   ]
  },
  {
   "cell_type": "code",
   "execution_count": 12,
   "id": "18f879c7",
   "metadata": {},
   "outputs": [],
   "source": [
    "# get_mapping(\"GDC.Case\", \"primary_site\", \"Brain\")"
   ]
  },
  {
   "cell_type": "code",
   "execution_count": 13,
   "id": "21a48c20",
   "metadata": {},
   "outputs": [],
   "source": [
    "# suggested_row['samples'][0]['sample_id']"
   ]
  },
  {
   "cell_type": "code",
   "execution_count": 14,
   "id": "17d589e7",
   "metadata": {},
   "outputs": [],
   "source": [
    "# suggested_row['primary_site']"
   ]
  },
  {
   "cell_type": "code",
   "execution_count": 15,
   "id": "31005b07",
   "metadata": {},
   "outputs": [],
   "source": [
    "def transform_sample_to_specimen(sample):\n",
    "    \"\"\"\n",
    "    A method for transforming a GDC Sample into CCDH Specimen.\n",
    "    \"\"\"\n",
    "\n",
    "    specimen = ccdh.Specimen(id = sample.get('sample_id'))\n",
    "    specimen.source_material_type = sample.get('sample_type')\n",
    "    specimen.general_tissue_morphology = sample.get('tissue_type')\n",
    "    specimen.specific_tissue_morphology = sample.get('tumor_code')\n",
    "    specimen.tumor_status_at_collection = sample.get('tumor_descriptor')\n",
    "    # we don't consistentely have created_datetimes\n",
    "    # need to check their format too\n",
    "#     if 'created_datetime' in sample and sample['created_datetime'] is not None :\n",
    "#         specimen.creation_activity = ccdh.SpecimenCreationActivity(\n",
    "#             date_ended=ccdh.TimePoint(\n",
    "#                 dateTime=sample.get('created_datetime')\n",
    "#             )\n",
    "#         )\n",
    "#     else:\n",
    "#         print(\"creation_activity not created because created_datetime absent or equals None\")\n",
    "    return specimen\n",
    "\n",
    "\n"
   ]
  },
  {
   "cell_type": "code",
   "execution_count": 16,
   "id": "d065d4cd",
   "metadata": {},
   "outputs": [
    {
     "data": {
      "text/plain": [
       "Specimen(id='a118da56-784d-4b67-aade-d9a7a8b49f18', identifier=[], description=None, specimen_type=None, analyte_type=None, associated_project=None, data_provider=None, source_material_type='Primary Tumor', parent_specimen=[], source_subject=None, tumor_status_at_collection=None, creation_activity=None, processing_activity=[], storage_activity=[], transport_activity=[], contained_in=None, dimensional_measures=None, quantity_measure=[], quality_measure=[], cellular_composition_type=None, histological_composition_measures=[], general_tissue_pathology=None, specific_tissue_pathology=None, preinvasive_tissue_morphology=None, morphology_pathologically_confirmed=None, morphology_assessor_role=None, morphology_assessment_method=None, degree_of_dysplasia=None, dysplasia_fraction=None, related_document=[], section_location=None, derived_product=[], distance_from_paired_specimen=None)"
      ]
     },
     "execution_count": 16,
     "metadata": {},
     "output_type": "execute_result"
    }
   ],
   "source": [
    "# Let's try creating a test specimen.\n",
    "test_specimen = transform_sample_to_specimen(suggested_row['samples'][0])\n",
    "test_specimen"
   ]
  },
  {
   "cell_type": "code",
   "execution_count": 41,
   "id": "53cad32f",
   "metadata": {},
   "outputs": [
    {
     "data": {
      "text/plain": [
       "Diagnosis(id=None, identifier=[], subject=None, age_at_diagnosis=Quantity(value_decimal=Decimal('123'), value_codeable_concept=None, unit=None), diagnosis_date=None, condition=None, primary_site=[], metastatic_site=[], stage=[], grade=[], morphology=None, disease_status=None, prior_diagnosis=None, method_of_diagnosis=None, related_specimen=[], primary_tumor_dimensional_measures=None, supporting_observation=[])"
      ]
     },
     "execution_count": 41,
     "metadata": {},
     "output_type": "execute_result"
    }
   ],
   "source": [
    "ccdh.Diagnosis(age_at_diagnosis = ccdh.Quantity(value_decimal=\"123\"))"
   ]
  },
  {
   "cell_type": "code",
   "execution_count": 44,
   "id": "107150ad",
   "metadata": {},
   "outputs": [
    {
     "name": "stdout",
     "output_type": "stream",
     "text": [
      "{'age_at_diagnosis': 22107, 'ajcc_clinical_m': 'M1', 'ajcc_clinical_n': 'N1', 'ajcc_clinical_stage': 'Stage IVC', 'ajcc_clinical_t': 'T3', 'ajcc_pathologic_m': 'M1', 'ajcc_pathologic_n': 'N1', 'ajcc_pathologic_stage': 'Stage IVC', 'ajcc_pathologic_t': 'T3', 'ajcc_staging_system_edition': '7th', 'classification_of_tumor': 'not reported', 'created_datetime': None, 'days_to_diagnosis': 0, 'days_to_last_follow_up': None, 'days_to_last_known_disease_status': None, 'days_to_recurrence': None, 'diagnosis_id': '9e30aa6c-91e6-5dd3-9512-75c162a89913', 'icd_10_code': 'C32.9', 'last_known_disease_status': 'not reported', 'morphology': '8070/3', 'primary_diagnosis': 'Squamous cell carcinoma, NOS', 'prior_malignancy': 'no', 'prior_treatment': 'No', 'progression_or_recurrence': 'not reported', 'site_of_resection_or_biopsy': 'Larynx, NOS', 'state': 'released', 'submitter_id': 'TCGA-QK-A8Z8_diagnosis', 'synchronous_malignancy': 'No', 'tissue_or_organ_of_origin': 'Larynx, NOS', 'tumor_grade': 'not reported', 'tumor_stage': 'stage ivc', 'updated_datetime': '2019-08-08T16:48:06.888156-05:00', 'year_of_diagnosis': 2013}\n",
      "primary_diagnosis = Squamous cell carcinoma, NOS\n",
      "morphology = 8070/3\n",
      "grade = None\n",
      "year_of_diagnosis = 2013\n"
     ]
    },
    {
     "ename": "ValueError",
     "evalue": " Unknown argument: year_at_diagnosis = Quantity(value_decimal=Decimal('2013'), ",
     "output_type": "error",
     "traceback": [
      "\u001b[0;31m---------------------------------------------------------------------------\u001b[0m",
      "\u001b[0;31mValueError\u001b[0m                                Traceback (most recent call last)",
      "\u001b[0;32m/tmp/ipykernel_383721/3442452710.py\u001b[0m in \u001b[0;36m<module>\u001b[0;34m\u001b[0m\n\u001b[1;32m    110\u001b[0m \u001b[0;34m\u001b[0m\u001b[0m\n\u001b[1;32m    111\u001b[0m \u001b[0;34m\u001b[0m\u001b[0m\n\u001b[0;32m--> 112\u001b[0;31m example_diagnosis = transform_diagnosis(\n\u001b[0m\u001b[1;32m    113\u001b[0m     \u001b[0mgdc_head_and_mouth\u001b[0m\u001b[0;34m[\u001b[0m\u001b[0;36m131\u001b[0m\u001b[0;34m]\u001b[0m\u001b[0;34m[\u001b[0m\u001b[0;34m\"diagnoses\"\u001b[0m\u001b[0;34m]\u001b[0m\u001b[0;34m[\u001b[0m\u001b[0;36m0\u001b[0m\u001b[0;34m]\u001b[0m\u001b[0;34m,\u001b[0m \u001b[0mgdc_head_and_mouth\u001b[0m\u001b[0;34m[\u001b[0m\u001b[0;36m131\u001b[0m\u001b[0;34m]\u001b[0m\u001b[0;34m\u001b[0m\u001b[0;34m\u001b[0m\u001b[0m\n\u001b[1;32m    114\u001b[0m )\n",
      "\u001b[0;32m/tmp/ipykernel_383721/3442452710.py\u001b[0m in \u001b[0;36mtransform_diagnosis\u001b[0;34m(diagnosis, case)\u001b[0m\n\u001b[1;32m     77\u001b[0m     \u001b[0mlist_to_pii\u001b[0m\u001b[0;34m(\u001b[0m\u001b[0mdiagnosis\u001b[0m\u001b[0;34m,\u001b[0m \u001b[0;34m[\u001b[0m\u001b[0;34m\"primary_diagnosis\"\u001b[0m\u001b[0;34m,\u001b[0m \u001b[0;34m\"morphology\"\u001b[0m\u001b[0;34m,\u001b[0m \u001b[0;34m\"grade\"\u001b[0m\u001b[0;34m,\u001b[0m \u001b[0;34m\"year_of_diagnosis\"\u001b[0m\u001b[0;34m]\u001b[0m\u001b[0;34m)\u001b[0m\u001b[0;34m\u001b[0m\u001b[0;34m\u001b[0m\u001b[0m\n\u001b[1;32m     78\u001b[0m \u001b[0;34m\u001b[0m\u001b[0m\n\u001b[0;32m---> 79\u001b[0;31m     ccdh_diagnosis = ccdh.Diagnosis(\n\u001b[0m\u001b[1;32m     80\u001b[0m         \u001b[0mid\u001b[0m\u001b[0;34m=\u001b[0m\u001b[0mdiagnosis\u001b[0m\u001b[0;34m.\u001b[0m\u001b[0mget\u001b[0m\u001b[0;34m(\u001b[0m\u001b[0;34m\"diagnosis_id\"\u001b[0m\u001b[0;34m)\u001b[0m\u001b[0;34m,\u001b[0m\u001b[0;34m\u001b[0m\u001b[0;34m\u001b[0m\u001b[0m\n\u001b[1;32m     81\u001b[0m         related_specimen=[\n",
      "\u001b[0;32m~/.local/share/virtualenvs/example-data-8chtNU61/lib/python3.8/site-packages/crdch_model.py\u001b[0m in \u001b[0;36m__init__\u001b[0;34m(self, id, identifier, subject, age_at_diagnosis, diagnosis_date, condition, primary_site, metastatic_site, stage, grade, morphology, disease_status, prior_diagnosis, method_of_diagnosis, related_specimen, primary_tumor_dimensional_measures, supporting_observation, **kwargs)\u001b[0m\n",
      "\u001b[0;32m~/.local/share/virtualenvs/example-data-8chtNU61/lib/python3.8/site-packages/crdch_model.py\u001b[0m in \u001b[0;36m__post_init__\u001b[0;34m(self, *_, **kwargs)\u001b[0m\n\u001b[1;32m    604\u001b[0m         \u001b[0mself\u001b[0m\u001b[0;34m.\u001b[0m\u001b[0m_normalize_inlined_as_list\u001b[0m\u001b[0;34m(\u001b[0m\u001b[0mslot_name\u001b[0m\u001b[0;34m=\u001b[0m\u001b[0;34m\"supporting_observation\"\u001b[0m\u001b[0;34m,\u001b[0m \u001b[0mslot_type\u001b[0m\u001b[0;34m=\u001b[0m\u001b[0mObservation\u001b[0m\u001b[0;34m,\u001b[0m \u001b[0mkey_name\u001b[0m\u001b[0;34m=\u001b[0m\u001b[0;34m\"observation_type\"\u001b[0m\u001b[0;34m,\u001b[0m \u001b[0mkeyed\u001b[0m\u001b[0;34m=\u001b[0m\u001b[0;32mFalse\u001b[0m\u001b[0;34m)\u001b[0m\u001b[0;34m\u001b[0m\u001b[0;34m\u001b[0m\u001b[0m\n\u001b[1;32m    605\u001b[0m \u001b[0;34m\u001b[0m\u001b[0m\n\u001b[0;32m--> 606\u001b[0;31m         \u001b[0msuper\u001b[0m\u001b[0;34m(\u001b[0m\u001b[0;34m)\u001b[0m\u001b[0;34m.\u001b[0m\u001b[0m__post_init__\u001b[0m\u001b[0;34m(\u001b[0m\u001b[0;34m**\u001b[0m\u001b[0mkwargs\u001b[0m\u001b[0;34m)\u001b[0m\u001b[0;34m\u001b[0m\u001b[0;34m\u001b[0m\u001b[0m\n\u001b[0m\u001b[1;32m    607\u001b[0m \u001b[0;34m\u001b[0m\u001b[0m\n\u001b[1;32m    608\u001b[0m \u001b[0;34m\u001b[0m\u001b[0m\n",
      "\u001b[0;32m~/.local/share/virtualenvs/example-data-8chtNU61/lib/python3.8/site-packages/linkml_runtime/utils/yamlutils.py\u001b[0m in \u001b[0;36m__post_init__\u001b[0;34m(self, *args, **kwargs)\u001b[0m\n\u001b[1;32m     46\u001b[0m                 \u001b[0mv\u001b[0m \u001b[0;34m=\u001b[0m \u001b[0mrepr\u001b[0m\u001b[0;34m(\u001b[0m\u001b[0mkwargs\u001b[0m\u001b[0;34m[\u001b[0m\u001b[0mk\u001b[0m\u001b[0;34m]\u001b[0m\u001b[0;34m)\u001b[0m\u001b[0;34m[\u001b[0m\u001b[0;34m:\u001b[0m\u001b[0;36m40\u001b[0m\u001b[0;34m]\u001b[0m\u001b[0;34m.\u001b[0m\u001b[0mreplace\u001b[0m\u001b[0;34m(\u001b[0m\u001b[0;34m'\\n'\u001b[0m\u001b[0;34m,\u001b[0m \u001b[0;34m'\\\\n'\u001b[0m\u001b[0;34m)\u001b[0m\u001b[0;34m\u001b[0m\u001b[0;34m\u001b[0m\u001b[0m\n\u001b[1;32m     47\u001b[0m                 \u001b[0mmessages\u001b[0m\u001b[0;34m.\u001b[0m\u001b[0mappend\u001b[0m\u001b[0;34m(\u001b[0m\u001b[0;34mf\"{TypedNode.yaml_loc(k)} Unknown argument: {k} = {v}\"\u001b[0m\u001b[0;34m)\u001b[0m\u001b[0;34m\u001b[0m\u001b[0;34m\u001b[0m\u001b[0m\n\u001b[0;32m---> 48\u001b[0;31m             \u001b[0;32mraise\u001b[0m \u001b[0mValueError\u001b[0m\u001b[0;34m(\u001b[0m\u001b[0;34m'\\n'\u001b[0m\u001b[0;34m.\u001b[0m\u001b[0mjoin\u001b[0m\u001b[0;34m(\u001b[0m\u001b[0mmessages\u001b[0m\u001b[0;34m)\u001b[0m\u001b[0;34m)\u001b[0m\u001b[0;34m\u001b[0m\u001b[0;34m\u001b[0m\u001b[0m\n\u001b[0m\u001b[1;32m     49\u001b[0m \u001b[0;34m\u001b[0m\u001b[0m\n\u001b[1;32m     50\u001b[0m     \u001b[0;32mdef\u001b[0m \u001b[0m_default\u001b[0m\u001b[0;34m(\u001b[0m\u001b[0mself\u001b[0m\u001b[0;34m,\u001b[0m \u001b[0mobj\u001b[0m\u001b[0;34m,\u001b[0m \u001b[0mfiltr\u001b[0m\u001b[0;34m:\u001b[0m \u001b[0mCallable\u001b[0m\u001b[0;34m[\u001b[0m\u001b[0;34m[\u001b[0m\u001b[0mdict\u001b[0m\u001b[0;34m]\u001b[0m\u001b[0;34m,\u001b[0m \u001b[0mdict\u001b[0m\u001b[0;34m]\u001b[0m \u001b[0;34m=\u001b[0m \u001b[0;32mNone\u001b[0m\u001b[0;34m)\u001b[0m\u001b[0;34m:\u001b[0m\u001b[0;34m\u001b[0m\u001b[0;34m\u001b[0m\u001b[0m\n",
      "\u001b[0;31mValueError\u001b[0m:  Unknown argument: year_at_diagnosis = Quantity(value_decimal=Decimal('2013'), "
     ]
    }
   ],
   "source": [
    "def create_body_site(site_input):\n",
    "    the_mapping = get_mapping(\"GDC.Case\", \"primary_site\", site_input)\n",
    "    mapped = ccdh.BodySite(\n",
    "        site=ccdh.CodeableConcept(\n",
    "            coding=[\n",
    "                ccdh.Coding(\n",
    "                    code=the_mapping[0][\"object_id\"],\n",
    "                    system=\"undefined\",\n",
    "                    label=the_mapping[0][\"object_label\"],\n",
    "                )\n",
    "            ],\n",
    "            text=site_input,\n",
    "        )\n",
    "    )\n",
    "    return mapped\n",
    "\n",
    "\n",
    "def create_stage_from_gdc(current_prefix, diagnosis):\n",
    "    cancer_stage_method_type = None\n",
    "    \n",
    "    # if diagnosis.get('ajcc_staging_system_edition') == '7th':\n",
    "    #    cancer_stage_method_type = 'AJCC staging system 7th edition'\n",
    "    \n",
    "    # Create an observation set\n",
    "    obs = ccdh.CancerStageObservationSet(method_type=cancer_stage_method_type)\n",
    "    for k, v in diagnosis.items():\n",
    "        # print(f\"trying {k} of {v}\")\n",
    "        qk = current_prefix + str(k)\n",
    "        current_mapping = get_mapping(current_prefix, k, v)\n",
    "        # print(current_mapping)\n",
    "        if current_mapping is not None:\n",
    "            crdch_diag_info_type = gdc_to_crdch_csoot_frame_complete[\"CRDC-H\"].loc[\n",
    "                gdc_to_crdch_csoot_frame_complete[\"GDC\"] == k\n",
    "            ]\n",
    "            crdch_diag_info_type = list(crdch_diag_info_type)\n",
    "            if len(crdch_diag_info_type) == 1:\n",
    "                crdch_diag_info_type = crdch_diag_info_type[0]\n",
    "                current_observation = ccdh.CancerStageObservation(\n",
    "                    observation_type=ccdh.CodeableConcept(\n",
    "                        coding=[\n",
    "                            ccdh.Coding(\n",
    "                                code=crdch_diag_info_type,\n",
    "                                system=\"undefined\",\n",
    "                            )\n",
    "                        ],\n",
    "                        text=k,\n",
    "                    ),\n",
    "                    value_codeable_concept=ccdh.CodeableConcept(\n",
    "                        coding=[\n",
    "                            ccdh.Coding(\n",
    "                                code=current_mapping[0][\"object_id\"],\n",
    "                                system=\"undefined\",\n",
    "                                label=current_mapping[0][\"object_label\"],\n",
    "                            )\n",
    "                        ],\n",
    "                        text=v,\n",
    "                    ),\n",
    "                )\n",
    "                # print(current_observation)\n",
    "                obs.observations.append(current_observation)\n",
    "    # print(obs)\n",
    "    return obs\n",
    "\n",
    "def printifin(current_dict, current_key):\n",
    "    if current_key in current_dict:\n",
    "        print(f\"{current_key} = {current_dict[current_key]}\")\n",
    "    else:\n",
    "        print(f\"{current_key} = {None}\")\n",
    "        \n",
    "def list_to_pii(current_dict, key_list):\n",
    "    for i in key_list:\n",
    "        printifin(current_dict, i)\n",
    "\n",
    "\n",
    "def transform_diagnosis(diagnosis, case):\n",
    "    print(diagnosis)\n",
    "    list_to_pii(diagnosis, [\"primary_diagnosis\", \"morphology\", \"grade\", \"year_of_diagnosis\"])\n",
    "    \n",
    "    ccdh_diagnosis = ccdh.Diagnosis(\n",
    "        id=diagnosis.get(\"diagnosis_id\"),\n",
    "        related_specimen=[\n",
    "            transform_sample_to_specimen(sample) for sample in case.get(\"samples\")\n",
    "        ],\n",
    "        stage=create_stage_from_gdc(\"GDC.Diagnosis\", diagnosis),\n",
    "#         age_at_diagnosis = ccdh.Quantity(value_decimal=diagnosis['year_of_diagnosis'])\n",
    "    )\n",
    "\n",
    "    #     ccdh_diagnosis = ccdh.Diagnosis(\n",
    "    #         condition=diagnosis.get('primary_diagnosis'),\n",
    "    #         morphology=diagnosis.get('morphology'),\n",
    "    #         grade=diagnosis.get('grade'),\n",
    "    #         year_at_diagnosis=diagnosis.get('year_of_diagnosis'),\n",
    "    #     )\n",
    "\n",
    "    ccdh_diagnosis.identifier = [\n",
    "        ccdh.Identifier(system=\"GDC-submitter-id\", value=diagnosis.get(\"submitter_id\"))\n",
    "    ]\n",
    "\n",
    "    if \"primary_site\" in case and case[\"primary_site\"] != \"\":\n",
    "        body_site = create_body_site(case[\"primary_site\"])\n",
    "        if body_site is not None:\n",
    "            ccdh_diagnosis.metastatic_site.append(body_site)\n",
    "        else:\n",
    "            print(\"returned body_site is None\")\n",
    "    else:\n",
    "        print(\"case didn't seem to have a populated primary_site\")\n",
    "\n",
    "    return ccdh_diagnosis\n",
    "    pass\n",
    "\n",
    "\n",
    "example_diagnosis = transform_diagnosis(\n",
    "    gdc_head_and_mouth[131][\"diagnoses\"][0], gdc_head_and_mouth[131]\n",
    ")\n",
    "print(\"\\n\")\n",
    "print(yaml_dumper.dumps(example_diagnosis))\n"
   ]
  },
  {
   "cell_type": "code",
   "execution_count": null,
   "id": "1be21d55",
   "metadata": {},
   "outputs": [],
   "source": []
  }
 ],
 "metadata": {
  "kernelspec": {
   "display_name": "Python 3 (ipykernel)",
   "language": "python",
   "name": "python3"
  },
  "language_info": {
   "codemirror_mode": {
    "name": "ipython",
    "version": 3
   },
   "file_extension": ".py",
   "mimetype": "text/x-python",
   "name": "python",
   "nbconvert_exporter": "python",
   "pygments_lexer": "ipython3",
   "version": "3.8.10"
  }
 },
 "nbformat": 4,
 "nbformat_minor": 5
}
